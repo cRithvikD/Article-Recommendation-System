{
 "cells": [
  {
   "cell_type": "code",
   "execution_count": 79,
   "id": "c9ecbb4d-9d7c-49e8-a5b9-4e7c017e3fb1",
   "metadata": {
    "tags": []
   },
   "outputs": [],
   "source": [
    "import numpy as np\n",
    "import os\n",
    "import codecs\n",
    "import re\n",
    "import string"
   ]
  },
  {
   "cell_type": "markdown",
   "id": "da4026de-e91c-4b00-bed8-e0f2597481f7",
   "metadata": {},
   "source": [
    "# Load the GloVe File"
   ]
  },
  {
   "cell_type": "code",
   "execution_count": 80,
   "id": "e648182d-c215-4bb0-bc0e-b08ff23afac4",
   "metadata": {
    "tags": []
   },
   "outputs": [
    {
     "name": "stdout",
     "output_type": "stream",
     "text": [
      "\u001b[31mERROR: Could not find a version that satisfies the requirement util (from versions: none)\u001b[0m\u001b[31m\n",
      "\u001b[0m\u001b[31mERROR: No matching distribution found for util\u001b[0m\u001b[31m\n",
      "\u001b[0m\n",
      "\u001b[1m[\u001b[0m\u001b[34;49mnotice\u001b[0m\u001b[1;39;49m]\u001b[0m\u001b[39;49m A new release of pip is available: \u001b[0m\u001b[31;49m23.2.1\u001b[0m\u001b[39;49m -> \u001b[0m\u001b[32;49m24.0\u001b[0m\n",
      "\u001b[1m[\u001b[0m\u001b[34;49mnotice\u001b[0m\u001b[1;39;49m]\u001b[0m\u001b[39;49m To update, run: \u001b[0m\u001b[32;49mpip install --upgrade pip\u001b[0m\n"
     ]
    }
   ],
   "source": [
    "! pip install util"
   ]
  },
  {
   "cell_type": "code",
   "execution_count": 81,
   "id": "daa8d3d0-d4e3-4dd3-8f0c-4e7ba8012e61",
   "metadata": {
    "tags": []
   },
   "outputs": [],
   "source": [
    "# Load the English language model\n",
    "nlp = spacy.load(\"en_core_web_sm\")\n",
    "\n",
    "# Get the set of stop words from the loaded spaCy model\n",
    "stop_words = nlp.Defaults.stop_word\n",
    "filename = 'glove.6B.300d.txt'\n",
    "word_vector_dict = dict()\n",
    "\n",
    "with open(filename,'r') as file:\n",
    "    lines=file.readlines()\n",
    "    for line in lines:\n",
    "        input=line.split()\n",
    "        if(input[0] in stop_words):\n",
    "            continue\n",
    "        else:\n",
    "            word_vector_dict[input[0]]=[float(i) for i in input[1:]]\n",
    "        break"
   ]
  },
  {
   "cell_type": "code",
   "execution_count": 82,
   "id": "a533bb72-3940-41ff-9ab9-533e3b8d2835",
   "metadata": {
    "tags": []
   },
   "outputs": [
    {
     "data": {
      "text/plain": [
       "[0.04656, 0.21318, -0.0074364, -0.45854, -0.035639]"
      ]
     },
     "execution_count": 82,
     "metadata": {},
     "output_type": "execute_result"
    }
   ],
   "source": [
    "word_vector_dict['the'][0:5]"
   ]
  },
  {
   "cell_type": "markdown",
   "id": "1f4f0f66-1c55-4b10-a073-480abf362b10",
   "metadata": {},
   "source": [
    "# Load the articles"
   ]
  },
  {
   "cell_type": "code",
   "execution_count": 9,
   "id": "cafb017a-561b-4c8a-95ba-112e0b6c325e",
   "metadata": {
    "tags": []
   },
   "outputs": [
    {
     "name": "stdout",
     "output_type": "stream",
     "text": [
      "--2024-03-23 15:23:06--  https://s3-us-west-1.amazonaws.com/msan692/bbc.zip\n",
      "Resolving s3-us-west-1.amazonaws.com (s3-us-west-1.amazonaws.com)... 52.219.113.120, 52.219.113.168, 52.219.120.120, ...\n",
      "Connecting to s3-us-west-1.amazonaws.com (s3-us-west-1.amazonaws.com)|52.219.113.120|:443... connected.\n",
      "HTTP request sent, awaiting response... 200 OK\n",
      "Length: 2874114 (2.7M) [application/zip]\n",
      "Saving to: ‘bbc.zip.1’\n",
      "\n",
      "bbc.zip.1           100%[===================>]   2.74M  --.-KB/s    in 0.1s    \n",
      "\n",
      "2024-03-23 15:23:07 (20.8 MB/s) - ‘bbc.zip.1’ saved [2874114/2874114]\n",
      "\n"
     ]
    }
   ],
   "source": [
    "! wget https://s3-us-west-1.amazonaws.com/msan692/bbc.zip"
   ]
  },
  {
   "cell_type": "code",
   "execution_count": 83,
   "id": "1296efff-ffb2-49fc-abc5-de410d321981",
   "metadata": {
    "tags": []
   },
   "outputs": [],
   "source": [
    "article_files = []\n",
    "for path, subdirs, files in os.walk('bbc'):\n",
    "    for name in files:\n",
    "        article_files.append(os.path.join(path, name))"
   ]
  },
  {
   "cell_type": "code",
   "execution_count": 84,
   "id": "ff6894b4-9de8-4b12-80fa-1a89ddfa9205",
   "metadata": {
    "tags": []
   },
   "outputs": [
    {
     "data": {
      "text/plain": [
       "['bbc/COPYRIGHT',\n",
       " 'bbc/entertainment/289.txt',\n",
       " 'bbc/entertainment/262.txt',\n",
       " 'bbc/entertainment/276.txt',\n",
       " 'bbc/entertainment/060.txt']"
      ]
     },
     "execution_count": 84,
     "metadata": {},
     "output_type": "execute_result"
    }
   ],
   "source": [
    "article_files[:5]"
   ]
  },
  {
   "cell_type": "code",
   "execution_count": 85,
   "id": "16fd341d-1fd5-49af-8971-dc43e30bd9df",
   "metadata": {
    "tags": []
   },
   "outputs": [
    {
     "data": {
      "text/plain": [
       "2227"
      ]
     },
     "execution_count": 85,
     "metadata": {},
     "output_type": "execute_result"
    }
   ],
   "source": [
    "# article_files=article_files[:100]\n",
    "len(article_files)\n"
   ]
  },
  {
   "cell_type": "markdown",
   "id": "d063cfcb-ce69-4a96-9f47-d40dbc689575",
   "metadata": {},
   "source": [
    "# Find centroid"
   ]
  },
  {
   "cell_type": "code",
   "execution_count": 86,
   "id": "c32d14c6-1ff7-4f86-99f6-7cc7814ca891",
   "metadata": {
    "tags": []
   },
   "outputs": [],
   "source": [
    "def words(text):\n",
    "    \"\"\"\n",
    "    Given a string, return a list of words normalized as follows.\n",
    "    \n",
    "        1. Lowercase all words\n",
    "        2. Use re.sub function and string.punctuation + '0-9\\\\r\\\\t\\\\n\\\\n\\n]'\n",
    "            to replace all those char with a space character.\n",
    "        3. Split on space to get word list.\n",
    "        4. Ignore words < 3 char long.\n",
    "        5. Remove English stop words\n",
    "    Don't use Spacy.\n",
    "    \"\"\"\n",
    "    text = text.lower()\n",
    "    text = re.sub(\"[\" + string.punctuation + '0-9\\\\r\\\\t\\\\n\\\\n\\n]', ' ', text)\n",
    "    text=re.sub(r'\\n\\n+', '\\n', text)\n",
    "    words = text.split(\" \")\n",
    "    output = [w for w in words if len(w) >= 3] \n",
    "    words_cleaned=[]\n",
    "    for w in output:\n",
    "        if ((w == '')):\n",
    "            continue\n",
    "        else:\n",
    "            words_cleaned.append(w)\n",
    "    return words_cleaned"
   ]
  },
  {
   "cell_type": "code",
   "execution_count": 87,
   "id": "decd0b75-6d23-4de4-90e4-1c56d5da1c1f",
   "metadata": {
    "tags": []
   },
   "outputs": [],
   "source": [
    "article_info=list()\n",
    "for f in article_files:\n",
    "        if (f.endswith(\".txt\")):\n",
    "            # print(f)\n",
    "            filename=f\n",
    "            filename = codecs.open(filename, encoding='latin-1', mode='r')\n",
    "            text = filename.read()\n",
    "            filename.close()\n",
    "            # print(text[0:90])\n",
    "            # print(1)\n",
    "            str_output=''\n",
    "            l=list()\n",
    "            for s in text:  \n",
    "                str_output=str_output+s\n",
    "            text_set= words(str_output)\n",
    "            for w in text_set:\n",
    "                if w in word_vector_dict.keys():\n",
    "                    l.append(word_vector_dict[w])\n",
    "            centroid=np.mean(l, axis=0)\n",
    "            record=(f,centroid)\n",
    "            article_info.append(record)"
   ]
  },
  {
   "cell_type": "code",
   "execution_count": 88,
   "id": "d497aa04-cdd1-484d-b0fe-be971f0f0a74",
   "metadata": {
    "tags": []
   },
   "outputs": [
    {
     "data": {
      "text/plain": [
       "('bbc/entertainment/289.txt',\n",
       " array([ 4.6560e-02,  2.1318e-01, -7.4364e-03, -4.5854e-01, -3.5639e-02,\n",
       "         2.3643e-01, -2.8836e-01,  2.1521e-01, -1.3486e-01, -1.6413e+00,\n",
       "        -2.6091e-01,  3.2434e-02,  5.6621e-02, -4.3296e-02, -2.1672e-02,\n",
       "         2.2476e-01, -7.5129e-02, -6.7018e-02, -1.4247e-01,  3.8825e-02,\n",
       "        -1.8951e-01,  2.9977e-01,  3.9305e-01,  1.7887e-01, -1.7343e-01,\n",
       "        -2.1178e-01,  2.3617e-01, -6.3681e-02, -4.2318e-01, -1.1661e-01,\n",
       "         9.3754e-02,  1.7296e-01, -3.3073e-01,  4.9112e-01, -6.8995e-01,\n",
       "        -9.2462e-02,  2.4742e-01, -1.7991e-01,  9.7908e-02,  8.3118e-02,\n",
       "         1.5299e-01, -2.7276e-01, -3.8934e-02,  5.4453e-01,  5.3737e-01,\n",
       "         2.9105e-01, -7.3514e-03,  4.7880e-02, -4.0760e-01, -2.6759e-02,\n",
       "         1.7919e-01,  1.0977e-02, -1.0963e-01, -2.6395e-01,  7.3990e-02,\n",
       "         2.6236e-01, -1.5080e-01,  3.4623e-01,  2.5758e-01,  1.1971e-01,\n",
       "        -3.7135e-02, -7.1593e-02,  4.3898e-01, -4.0764e-02,  1.6425e-02,\n",
       "        -4.4640e-01,  1.7197e-01,  4.6246e-02,  5.8639e-02,  4.1499e-02,\n",
       "         5.3948e-01,  5.2495e-01,  1.1361e-01, -4.8315e-02, -3.6385e-01,\n",
       "         1.8704e-01,  9.2761e-02, -1.1129e-01, -4.2085e-01,  1.3992e-01,\n",
       "        -3.9338e-01, -6.7945e-02,  1.2188e-01,  1.6707e-01,  7.5169e-02,\n",
       "        -1.5529e-02, -1.9499e-01,  1.9638e-01,  5.3194e-02,  2.5170e-01,\n",
       "        -3.4845e-01, -1.0638e-01, -3.4692e-01, -1.9024e-01, -2.0040e-01,\n",
       "         1.2154e-01, -2.9208e-01,  2.3353e-02, -1.1618e-01, -3.5768e-01,\n",
       "         6.2304e-02,  3.5884e-01,  2.9060e-02,  7.3005e-03,  4.9482e-03,\n",
       "        -1.5048e-01, -1.2313e-01,  1.9337e-01,  1.2173e-01,  4.4503e-01,\n",
       "         2.5147e-01,  1.0781e-01, -1.7716e-01,  3.8691e-02,  8.1530e-02,\n",
       "         1.4667e-01,  6.3666e-02,  6.1332e-02, -7.5569e-02, -3.7724e-01,\n",
       "         1.5850e-02, -3.0342e-01,  2.8374e-01, -4.2013e-02, -4.0715e-02,\n",
       "        -1.5269e-01,  7.4980e-02,  1.5577e-01,  1.0433e-01,  3.1393e-01,\n",
       "         1.9309e-01,  1.9429e-01,  1.5185e-01, -1.0192e-01, -1.8785e-02,\n",
       "         2.0791e-01,  1.3366e-01,  1.9038e-01, -2.5558e-01,  3.0400e-01,\n",
       "        -1.8960e-02,  2.0147e-01, -4.2110e-01, -7.5156e-03, -2.7977e-01,\n",
       "        -1.9314e-01,  4.6204e-02,  1.9971e-01, -3.0207e-01,  2.5735e-01,\n",
       "         6.8107e-01, -1.9409e-01,  2.3984e-01,  2.2493e-01,  6.5224e-01,\n",
       "        -1.3561e-01, -1.7383e-01, -4.8209e-02, -1.1860e-01,  2.1588e-03,\n",
       "        -1.9525e-02,  1.1948e-01,  1.9346e-01, -4.0820e-01, -8.2966e-02,\n",
       "         1.6626e-01, -1.0601e-01,  3.5861e-01,  1.6922e-01,  7.2590e-02,\n",
       "        -2.4803e-01, -1.0024e-01, -5.2491e-01, -1.7745e-01, -3.6647e-01,\n",
       "         2.6180e-01, -1.2077e-02,  8.3190e-02, -2.1528e-01,  4.1045e-01,\n",
       "         2.9136e-01,  3.0869e-01,  7.8864e-02,  3.2207e-01, -4.1023e-02,\n",
       "        -1.0970e-01, -9.2041e-02, -1.2339e-01, -1.6416e-01,  3.5382e-01,\n",
       "        -8.2774e-02,  3.3171e-01, -2.4738e-01, -4.8928e-02,  1.5746e-01,\n",
       "         1.8988e-01, -2.6642e-02,  6.3315e-02, -1.0673e-02,  3.4089e-01,\n",
       "         1.4106e+00,  1.3417e-01,  2.8191e-01, -2.5940e-01,  5.5267e-02,\n",
       "        -5.2425e-02, -2.5789e-01,  1.9127e-02, -2.2084e-02,  3.2113e-01,\n",
       "         6.8818e-02,  5.1207e-01,  1.6478e-01, -2.0194e-01,  2.9232e-01,\n",
       "         9.8575e-02,  1.3145e-02, -1.0652e-01,  1.3510e-01, -4.5332e-02,\n",
       "         2.0697e-01, -4.8425e-01, -4.4706e-01,  3.3305e-03,  2.9264e-03,\n",
       "        -1.0975e-01, -2.3325e-01,  2.2442e-01, -1.0503e-01,  1.2339e-01,\n",
       "         1.0978e-01,  4.8994e-02, -2.5157e-01,  4.0319e-01,  3.5318e-01,\n",
       "         1.8651e-01, -2.3622e-02, -1.2734e-01,  1.1475e-01,  2.7359e-01,\n",
       "        -2.1866e-01,  1.5794e-02,  8.1754e-01, -2.3792e-02, -8.5469e-01,\n",
       "        -1.6203e-01,  1.8076e-01,  2.8014e-02, -1.4340e-01,  1.3139e-03,\n",
       "        -9.1735e-02, -8.9704e-02,  1.1105e-01, -1.6703e-01,  6.8377e-02,\n",
       "        -8.7388e-02, -3.9789e-02,  1.4184e-02,  2.1187e-01,  2.8579e-01,\n",
       "        -2.8797e-01, -5.8996e-02, -3.2436e-02, -4.7009e-03, -1.7052e-01,\n",
       "        -3.4741e-02, -1.1489e-01,  7.5093e-02,  9.9526e-02,  4.8183e-02,\n",
       "        -7.3775e-02, -4.1817e-01,  4.1268e-03,  4.4414e-01, -1.6062e-01,\n",
       "         1.4294e-01, -2.2628e+00, -2.7347e-02,  8.1311e-01,  7.7417e-01,\n",
       "        -2.5639e-01, -1.1576e-01, -1.1982e-01, -2.1363e-01,  2.8429e-02,\n",
       "         2.7261e-01,  3.1026e-02,  9.6782e-02,  6.7769e-03,  1.4082e-01,\n",
       "        -1.3064e-02, -2.9686e-01, -7.9913e-02,  1.9500e-01,  3.1549e-02,\n",
       "         2.8506e-01, -8.7461e-02,  9.0611e-03, -2.0989e-01,  5.3913e-02]))"
      ]
     },
     "execution_count": 88,
     "metadata": {},
     "output_type": "execute_result"
    }
   ],
   "source": [
    "article_info[0]"
   ]
  },
  {
   "cell_type": "markdown",
   "id": "8a658f28-730c-4f43-94c5-39a101898d8c",
   "metadata": {},
   "source": [
    "# Recommend"
   ]
  },
  {
   "cell_type": "code",
   "execution_count": 89,
   "id": "9ddb5daa-0e18-4251-b82f-a787e3278f2a",
   "metadata": {
    "tags": []
   },
   "outputs": [],
   "source": [
    "def recommended(article, article_info, n):\n",
    "    \"\"\" Return top n articles closest to article.\n",
    "\n",
    "    Inputs:\n",
    "        article: list [filename, title, text-minus-title, wordvec-centroid]\n",
    "        articles: list of list [filename, title, text-minus-title, wordvec-centroid]\n",
    "\n",
    "    Output:\n",
    "         list of [topic, filename, title]\n",
    "    \"\"\"\n",
    "    dist=[(np.linalg.norm(article[1] - a[1]), a) for a in article_info]\n",
    "    sorted_dist=sorted(dist, key=lambda x: x[0])\n",
    "    sorted_dist=sorted_dist[1:]\n",
    "    output=list()\n",
    "    for i in range(n):\n",
    "        title=sorted_dist[i][1][0].split(\"/\")[-1]\n",
    "        topic=sorted_dist[i][1][0].split(\"/\")[-2]\n",
    "        output.append((topic,title))\n",
    "    return output"
   ]
  },
  {
   "cell_type": "code",
   "execution_count": 90,
   "id": "01e355b8-0a7c-4b2d-b41b-857fa07677b7",
   "metadata": {},
   "outputs": [],
   "source": [
    "recommendations=dict()\n",
    "for article in article_info:\n",
    "        op=recommended(article, article_info, 5)\n",
    "        recommendations[(article[0].split(\"/\")[-2], article[0].split(\"/\")[-1])]=op"
   ]
  },
  {
   "cell_type": "code",
   "execution_count": 97,
   "id": "ceda27c2-2faa-474e-8109-804f539f5e7b",
   "metadata": {
    "tags": []
   },
   "outputs": [
    {
     "data": {
      "text/plain": [
       "[('politics', '263.txt'),\n",
       " ('politics', '040.txt'),\n",
       " ('politics', '327.txt'),\n",
       " ('tech', '301.txt'),\n",
       " ('politics', '224.txt')]"
      ]
     },
     "execution_count": 97,
     "metadata": {},
     "output_type": "execute_result"
    }
   ],
   "source": [
    "recommendations['entertainment', '275.txt']"
   ]
  }
 ],
 "metadata": {
  "kernelspec": {
   "display_name": "Python 3 (ipykernel)",
   "language": "python",
   "name": "python3"
  },
  "language_info": {
   "codemirror_mode": {
    "name": "ipython",
    "version": 3
   },
   "file_extension": ".py",
   "mimetype": "text/x-python",
   "name": "python",
   "nbconvert_exporter": "python",
   "pygments_lexer": "ipython3",
   "version": "3.11.0"
  }
 },
 "nbformat": 4,
 "nbformat_minor": 5
}
